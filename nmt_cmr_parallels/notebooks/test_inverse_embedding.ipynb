{
 "cells": [
  {
   "cell_type": "code",
   "execution_count": 1,
   "metadata": {},
   "outputs": [],
   "source": [
    "import torch\n",
    "import torch.nn as nn\n",
    "import os\n",
    "import torch.optim as optim\n",
    "import sys\n",
    "import os\n",
    "current_dir = os.path.dirname(os.path.abspath(__file__)) if \"__file__\" in locals() else os.getcwd()\n",
    "root_dir = current_dir\n",
    "while not os.path.isdir(os.path.join(root_dir, \"nmt_cmr_parallels\")):\n",
    "    parent_dir = os.path.dirname(root_dir)\n",
    "    if parent_dir == root_dir:\n",
    "        raise FileNotFoundError(\"Could not find 'nmt_cmr_parallels' folder in any parent directories\")\n",
    "    root_dir = parent_dir\n",
    "\n",
    "# Add project root to sys.path\n",
    "if root_dir not in sys.path:\n",
    "    sys.path.append(root_dir)\n",
    "    \n",
    "from nmt_cmr_parallels.data.word_vectors import load_pretrained_inverse_embedding\n",
    "from torch.utils.data import DataLoader, TensorDataset\n",
    "\n",
    "from nmt_cmr_parallels.data.sequence_data import load_cached_vocabulary, create_pretrained_semantic_embedding\n",
    "DEFAULT_DATA_PATH = os.path.expanduser(os.path.join('~', '.seq_nlp_data'))"
   ]
  },
  {
   "cell_type": "code",
   "execution_count": 13,
   "metadata": {},
   "outputs": [],
   "source": [
    "pretrained_embedding = create_pretrained_semantic_embedding(DEFAULT_DATA_PATH,50)\n",
    "vocab = load_cached_vocabulary(\"peers_vocab.json\")\n",
    "vocab = [x.lower() for x in vocab]\n",
    "vocab = ['<null>'] + vocab + ['<SoS>','<EoS>']"
   ]
  },
  {
   "cell_type": "code",
   "execution_count": 14,
   "metadata": {},
   "outputs": [],
   "source": [
    "embedding_layer = nn.Embedding(len(vocab), 50)\n",
    "    \n",
    "# Initialize the weights of the Embedding layer with the GloVe vectors\n",
    "word_to_index = {word: idx for idx, word in enumerate(vocab)}\n",
    "for word, index in word_to_index.items():\n",
    "    if word in pretrained_embedding:\n",
    "        embedding_layer.weight.data[index] = torch.tensor(pretrained_embedding[word], dtype=torch.float32)\n",
    "\n",
    "# Freeze the embedding layer\n",
    "for param in embedding_layer.parameters():\n",
    "    param.requires_grad = False"
   ]
  },
  {
   "cell_type": "code",
   "execution_count": 15,
   "metadata": {},
   "outputs": [],
   "source": [
    "# Step 1: Data Preparation\n",
    "def create_data(embeddings, vocab_size):\n",
    "    x = embeddings.weight.data.clone()\n",
    "    y = torch.eye(vocab_size)\n",
    "    return x, y\n",
    "\n",
    "vocab_size = len(vocab)  # replace with actual vocabulary size\n",
    "x, y = create_data(embedding_layer, vocab_size)\n",
    "\n",
    "dataset = TensorDataset(x, y)\n",
    "dataloader = DataLoader(dataset, batch_size=32, shuffle=True)\n",
    "\n",
    "# Step 2: MLP Model Definition\n",
    "class InverseEmbeddingMLP(nn.Module):\n",
    "    def __init__(self, embedding_dim, vocab_size):\n",
    "        super(InverseEmbeddingMLP, self).__init__()\n",
    "        self.fc1 = nn.Linear(embedding_dim, 512)\n",
    "        self.relu = nn.ReLU()\n",
    "        self.fc2 = nn.Linear(512, vocab_size)\n",
    "    \n",
    "    def forward(self, x):\n",
    "        x = self.fc1(x)\n",
    "        x = self.relu(x)\n",
    "        x = self.fc2(x)\n",
    "        return x\n",
    "\n",
    "inverse_embedding = InverseEmbeddingMLP(embedding_layer.embedding_dim, vocab_size)\n",
    "inverse_embedding = load_pretrained_inverse_embedding(inverse_embedding, seq_tokens=True)"
   ]
  },
  {
   "cell_type": "code",
   "execution_count": 17,
   "metadata": {},
   "outputs": [],
   "source": [
    "#Evaluation\n",
    "for word in vocab:\n",
    "    if word in ['<SoS>', '<EoS>', '<null>']:\n",
    "        continue\n",
    "    word_index = word_to_index[word]\n",
    "    embedded_word = pretrained_embedding[word]\n",
    "    retrieved = inverse_embedding(torch.tensor(embedded_word))\n",
    "    predicted_indices = torch.argmax(retrieved, dim=0)\n",
    "    assert predicted_indices.item() == word_index"
   ]
  },
  {
   "cell_type": "code",
   "execution_count": null,
   "metadata": {},
   "outputs": [],
   "source": []
  }
 ],
 "metadata": {
  "kernelspec": {
   "display_name": "nmtcmr_copy",
   "language": "python",
   "name": "python3"
  },
  "language_info": {
   "codemirror_mode": {
    "name": "ipython",
    "version": 3
   },
   "file_extension": ".py",
   "mimetype": "text/x-python",
   "name": "python",
   "nbconvert_exporter": "python",
   "pygments_lexer": "ipython3",
   "version": "3.10.18"
  }
 },
 "nbformat": 4,
 "nbformat_minor": 2
}
